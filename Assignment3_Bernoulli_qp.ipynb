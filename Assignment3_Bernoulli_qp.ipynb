{
 "cells": [
  {
   "cell_type": "markdown",
   "id": "confident-guard",
   "metadata": {},
   "source": [
    "# Naive Bayes for Text Classification "
   ]
  },
  {
   "cell_type": "markdown",
   "id": "grave-blake",
   "metadata": {},
   "source": [
    "## Bernoulli Distribution"
   ]
  },
  {
   "cell_type": "code",
   "execution_count": 1,
   "id": "angry-recipient",
   "metadata": {},
   "outputs": [],
   "source": [
    "import numpy as np\n",
    "import scipy.sparse"
   ]
  },
  {
   "cell_type": "code",
   "execution_count": 2,
   "id": "organizational-barrel",
   "metadata": {},
   "outputs": [],
   "source": [
    "train_X, test_X = scipy.sparse.load_npz('training_feats.npz').toarray(), scipy.sparse.load_npz('test_feats.npz').toarray()\n",
    "train_y, test_y = np.load('training_labels.npy', allow_pickle=True), np.load('test_labels.npy', allow_pickle=True)"
   ]
  },
  {
   "cell_type": "code",
   "execution_count": 3,
   "id": "catholic-subscription",
   "metadata": {},
   "outputs": [],
   "source": [
    "def getSplitedClass(train_X):\n",
    "    res = []\n",
    "    for label in range(0, 20):\n",
    "        post_index = np.where(train_y == label)[0].tolist()\n",
    "        a_class = train_X[post_index[0]]\n",
    "        for index in range(1, len(post_index)):\n",
    "            a_class = np.vstack((a_class,train_X[post_index[index]]))\n",
    "        res.append(a_class)\n",
    "    return res"
   ]
  },
  {
   "cell_type": "code",
   "execution_count": 4,
   "id": "retained-jersey",
   "metadata": {},
   "outputs": [
    {
     "data": {
      "text/plain": [
       "[array([[0., 0., 0., ..., 0., 0., 0.],\n",
       "        [0., 0., 0., ..., 0., 0., 0.],\n",
       "        [0., 0., 0., ..., 0., 1., 0.],\n",
       "        ...,\n",
       "        [1., 0., 0., ..., 0., 1., 0.],\n",
       "        [0., 0., 0., ..., 1., 0., 0.],\n",
       "        [0., 0., 0., ..., 1., 0., 0.]]),\n",
       " array([[0., 0., 0., ..., 0., 0., 0.],\n",
       "        [0., 0., 0., ..., 0., 1., 0.],\n",
       "        [0., 0., 0., ..., 0., 0., 0.],\n",
       "        ...,\n",
       "        [0., 0., 0., ..., 0., 0., 0.],\n",
       "        [0., 0., 0., ..., 0., 0., 0.],\n",
       "        [0., 0., 0., ..., 0., 0., 0.]]),\n",
       " array([[0., 0., 0., ..., 0., 0., 0.],\n",
       "        [0., 0., 0., ..., 0., 0., 0.],\n",
       "        [0., 0., 0., ..., 0., 0., 0.],\n",
       "        ...,\n",
       "        [0., 0., 0., ..., 0., 0., 0.],\n",
       "        [0., 0., 0., ..., 0., 0., 0.],\n",
       "        [0., 0., 0., ..., 0., 0., 0.]]),\n",
       " array([[0., 0., 0., ..., 0., 1., 0.],\n",
       "        [0., 0., 0., ..., 0., 0., 0.],\n",
       "        [0., 0., 0., ..., 0., 0., 0.],\n",
       "        ...,\n",
       "        [0., 0., 0., ..., 0., 0., 0.],\n",
       "        [0., 0., 0., ..., 0., 1., 0.],\n",
       "        [0., 0., 0., ..., 0., 0., 0.]]),\n",
       " array([[0., 0., 0., ..., 0., 1., 0.],\n",
       "        [0., 0., 0., ..., 0., 0., 0.],\n",
       "        [0., 0., 0., ..., 0., 0., 0.],\n",
       "        ...,\n",
       "        [0., 0., 0., ..., 0., 0., 0.],\n",
       "        [0., 0., 0., ..., 0., 0., 0.],\n",
       "        [0., 0., 0., ..., 0., 0., 0.]]),\n",
       " array([[0., 0., 0., ..., 0., 0., 0.],\n",
       "        [0., 0., 0., ..., 0., 0., 0.],\n",
       "        [0., 0., 0., ..., 0., 0., 0.],\n",
       "        ...,\n",
       "        [0., 0., 1., ..., 0., 0., 0.],\n",
       "        [0., 0., 0., ..., 0., 1., 0.],\n",
       "        [0., 0., 0., ..., 0., 0., 0.]]),\n",
       " array([[0., 0., 0., ..., 0., 1., 0.],\n",
       "        [0., 0., 0., ..., 0., 1., 0.],\n",
       "        [0., 0., 0., ..., 0., 0., 0.],\n",
       "        ...,\n",
       "        [0., 1., 0., ..., 0., 0., 0.],\n",
       "        [0., 0., 0., ..., 0., 0., 0.],\n",
       "        [0., 0., 0., ..., 0., 1., 0.]]),\n",
       " array([[0., 0., 0., ..., 0., 1., 0.],\n",
       "        [0., 1., 0., ..., 0., 1., 0.],\n",
       "        [0., 0., 0., ..., 0., 1., 0.],\n",
       "        ...,\n",
       "        [0., 0., 0., ..., 0., 0., 0.],\n",
       "        [0., 0., 0., ..., 0., 0., 0.],\n",
       "        [0., 0., 0., ..., 0., 1., 0.]]),\n",
       " array([[1., 0., 0., ..., 0., 0., 0.],\n",
       "        [0., 0., 0., ..., 0., 0., 0.],\n",
       "        [0., 0., 0., ..., 0., 1., 0.],\n",
       "        ...,\n",
       "        [0., 0., 0., ..., 0., 1., 0.],\n",
       "        [0., 0., 0., ..., 0., 0., 0.],\n",
       "        [0., 0., 0., ..., 0., 0., 0.]]),\n",
       " array([[0., 0., 0., ..., 0., 0., 0.],\n",
       "        [0., 0., 0., ..., 0., 1., 0.],\n",
       "        [0., 0., 0., ..., 0., 0., 0.],\n",
       "        ...,\n",
       "        [0., 0., 0., ..., 0., 0., 0.],\n",
       "        [0., 0., 0., ..., 0., 1., 0.],\n",
       "        [0., 0., 0., ..., 0., 0., 0.]]),\n",
       " array([[0., 0., 0., ..., 0., 0., 0.],\n",
       "        [0., 0., 0., ..., 0., 0., 0.],\n",
       "        [0., 0., 0., ..., 0., 0., 0.],\n",
       "        ...,\n",
       "        [0., 0., 0., ..., 0., 0., 0.],\n",
       "        [0., 0., 0., ..., 0., 0., 0.],\n",
       "        [0., 0., 0., ..., 0., 0., 0.]]),\n",
       " array([[0., 0., 0., ..., 0., 1., 0.],\n",
       "        [0., 0., 0., ..., 0., 0., 0.],\n",
       "        [0., 0., 1., ..., 0., 0., 0.],\n",
       "        ...,\n",
       "        [0., 0., 0., ..., 0., 1., 1.],\n",
       "        [0., 0., 0., ..., 0., 1., 0.],\n",
       "        [0., 0., 0., ..., 0., 1., 0.]]),\n",
       " array([[0., 0., 0., ..., 0., 0., 0.],\n",
       "        [0., 0., 0., ..., 0., 0., 0.],\n",
       "        [0., 0., 0., ..., 0., 0., 0.],\n",
       "        ...,\n",
       "        [0., 0., 0., ..., 0., 0., 0.],\n",
       "        [0., 0., 0., ..., 0., 0., 0.],\n",
       "        [0., 0., 0., ..., 0., 0., 0.]]),\n",
       " array([[0., 0., 0., ..., 0., 0., 0.],\n",
       "        [0., 0., 0., ..., 0., 0., 0.],\n",
       "        [0., 0., 0., ..., 0., 0., 0.],\n",
       "        ...,\n",
       "        [0., 0., 0., ..., 0., 0., 0.],\n",
       "        [0., 0., 0., ..., 0., 0., 0.],\n",
       "        [0., 0., 0., ..., 0., 1., 0.]]),\n",
       " array([[0., 0., 0., ..., 0., 0., 0.],\n",
       "        [0., 1., 0., ..., 0., 0., 0.],\n",
       "        [0., 0., 0., ..., 1., 0., 0.],\n",
       "        ...,\n",
       "        [0., 0., 0., ..., 0., 0., 0.],\n",
       "        [0., 0., 0., ..., 0., 0., 0.],\n",
       "        [0., 0., 0., ..., 0., 0., 0.]]),\n",
       " array([[0., 0., 0., ..., 0., 1., 0.],\n",
       "        [0., 0., 0., ..., 0., 0., 0.],\n",
       "        [0., 0., 0., ..., 0., 0., 0.],\n",
       "        ...,\n",
       "        [0., 0., 0., ..., 0., 1., 0.],\n",
       "        [0., 0., 0., ..., 0., 1., 0.],\n",
       "        [1., 0., 0., ..., 0., 1., 0.]]),\n",
       " array([[0., 0., 0., ..., 0., 0., 0.],\n",
       "        [0., 0., 0., ..., 0., 1., 0.],\n",
       "        [0., 0., 0., ..., 0., 0., 0.],\n",
       "        ...,\n",
       "        [0., 0., 0., ..., 0., 1., 0.],\n",
       "        [0., 0., 0., ..., 0., 0., 0.],\n",
       "        [0., 0., 0., ..., 0., 0., 0.]]),\n",
       " array([[0., 0., 0., ..., 0., 0., 0.],\n",
       "        [0., 0., 0., ..., 0., 0., 0.],\n",
       "        [0., 1., 0., ..., 0., 1., 0.],\n",
       "        ...,\n",
       "        [0., 0., 0., ..., 0., 1., 0.],\n",
       "        [0., 0., 0., ..., 1., 1., 0.],\n",
       "        [0., 0., 0., ..., 1., 0., 0.]]),\n",
       " array([[0., 0., 0., ..., 0., 0., 0.],\n",
       "        [0., 0., 0., ..., 0., 0., 0.],\n",
       "        [0., 0., 0., ..., 0., 0., 0.],\n",
       "        ...,\n",
       "        [0., 0., 0., ..., 0., 0., 0.],\n",
       "        [0., 0., 0., ..., 0., 0., 0.],\n",
       "        [0., 0., 0., ..., 0., 0., 0.]]),\n",
       " array([[0., 0., 0., ..., 1., 1., 0.],\n",
       "        [0., 0., 0., ..., 0., 1., 0.],\n",
       "        [0., 0., 0., ..., 0., 0., 0.],\n",
       "        ...,\n",
       "        [0., 0., 0., ..., 0., 0., 0.],\n",
       "        [0., 0., 0., ..., 0., 0., 0.],\n",
       "        [0., 0., 0., ..., 0., 1., 0.]])]"
      ]
     },
     "execution_count": 4,
     "metadata": {},
     "output_type": "execute_result"
    }
   ],
   "source": [
    "for post in range(len(train_X)):\n",
    "    train_X[post] = np.where(train_X[post]!=0.0,1,train_X[post])\n",
    "for post in range(len(test_X)):\n",
    "    test_X[post] = np.where(test_X[post]!=0.0,1,test_X[post])\n",
    "classified_data = getSplitedClass(train_X)\n",
    "classified_data"
   ]
  },
  {
   "cell_type": "code",
   "execution_count": 7,
   "id": "military-romance",
   "metadata": {},
   "outputs": [],
   "source": [
    "def getPriorProb(classified_data):\n",
    "    prior_prob = []\n",
    "    for label in range(0, 20):\n",
    "        prior_prob.append(len(classified_data[label]) / len(train_X))\n",
    "    return np.array(prior_prob)"
   ]
  },
  {
   "cell_type": "code",
   "execution_count": 8,
   "id": "preliminary-christianity",
   "metadata": {},
   "outputs": [
    {
     "data": {
      "text/plain": [
       "array([0.04242531, 0.05161747, 0.05223617, 0.05214778, 0.05108715,\n",
       "       0.05241294, 0.05170585, 0.05250133, 0.05285487, 0.05276648,\n",
       "       0.05303164, 0.05258971, 0.05223617, 0.05250133, 0.05241294,\n",
       "       0.05294326, 0.04825879, 0.04984974, 0.04109952, 0.03332155])"
      ]
     },
     "execution_count": 8,
     "metadata": {},
     "output_type": "execute_result"
    }
   ],
   "source": [
    "prior_prob = getPriorProb(classified_data)\n",
    "prior_prob"
   ]
  },
  {
   "cell_type": "code",
   "execution_count": 25,
   "id": "consistent-valley",
   "metadata": {},
   "outputs": [],
   "source": [
    "def getBernoulliParams(classified_data): \n",
    "    alpha = 1\n",
    "    params = []\n",
    "    for label in range(0,20):\n",
    "        classified_data_T = classified_data[label].T # shape(1000, 480)\n",
    "        row_params = []\n",
    "        for feature in range(0, 1000):\n",
    "            param=(np.count_nonzero(classified_data_T[feature])+ alpha) / (classified_data_T.shape[1]+ 20)\n",
    "            row_params.append(param)\n",
    "        params.append(row_params)\n",
    "    params = np.array(params)\n",
    "    return params"
   ]
  },
  {
   "cell_type": "code",
   "execution_count": 26,
   "id": "directed-puzzle",
   "metadata": {},
   "outputs": [
    {
     "data": {
      "text/plain": [
       "(20, 1000)"
      ]
     },
     "execution_count": 26,
     "metadata": {},
     "output_type": "execute_result"
    }
   ],
   "source": [
    "BernoulliParams = getBernoulliParams(classified_data)\n",
    "BernoulliParams.shape"
   ]
  },
  {
   "cell_type": "code",
   "execution_count": 103,
   "id": "sharp-schedule",
   "metadata": {},
   "outputs": [],
   "source": [
    "def predict(test_X):\n",
    "    pred = []\n",
    "    for post in range(0, len(test_X)):\n",
    "        if post % 100 == 0:\n",
    "            print(\"post =\",post)\n",
    "        products = []\n",
    "        for label in range(0, 20):\n",
    "            product = 1\n",
    "            for feature in range (0,1000):\n",
    "                value = test_X[post][feature]\n",
    "                param = BernoulliParams[label][feature]\n",
    "                product *= param *value + (1 - param) * (1 - value)\n",
    "            products.append(product)\n",
    "        products = np.multiply(products, prior_prob)\n",
    "        index = np.argmax(products)\n",
    "        pred.append(index)\n",
    "    return pred"
   ]
  },
  {
   "cell_type": "code",
   "execution_count": 104,
   "id": "weekly-bishop",
   "metadata": {},
   "outputs": [
    {
     "name": "stdout",
     "output_type": "stream",
     "text": [
      "post = 0\n",
      "post = 100\n",
      "post = 200\n",
      "post = 300\n",
      "post = 400\n",
      "post = 500\n",
      "post = 600\n",
      "post = 700\n",
      "post = 800\n",
      "post = 900\n",
      "post = 1000\n",
      "post = 1100\n",
      "post = 1200\n",
      "post = 1300\n",
      "post = 1400\n",
      "post = 1500\n",
      "post = 1600\n",
      "post = 1700\n",
      "post = 1800\n",
      "post = 1900\n",
      "post = 2000\n",
      "post = 2100\n",
      "post = 2200\n",
      "post = 2300\n",
      "post = 2400\n",
      "post = 2500\n",
      "post = 2600\n",
      "post = 2700\n",
      "post = 2800\n",
      "post = 2900\n",
      "post = 3000\n",
      "post = 3100\n",
      "post = 3200\n",
      "post = 3300\n",
      "post = 3400\n",
      "post = 3500\n",
      "post = 3600\n",
      "post = 3700\n",
      "post = 3800\n",
      "post = 3900\n",
      "post = 4000\n",
      "post = 4100\n",
      "post = 4200\n",
      "post = 4300\n",
      "post = 4400\n",
      "post = 4500\n",
      "post = 4600\n",
      "post = 4700\n",
      "post = 4800\n",
      "post = 4900\n",
      "post = 5000\n",
      "post = 5100\n",
      "post = 5200\n",
      "post = 5300\n",
      "post = 5400\n",
      "post = 5500\n",
      "post = 5600\n",
      "post = 5700\n",
      "post = 5800\n",
      "post = 5900\n",
      "post = 6000\n",
      "post = 6100\n",
      "post = 6200\n",
      "post = 6300\n",
      "post = 6400\n",
      "post = 6500\n",
      "post = 6600\n",
      "post = 6700\n",
      "post = 6800\n",
      "post = 6900\n",
      "post = 7000\n",
      "post = 7100\n",
      "post = 7200\n",
      "post = 7300\n",
      "post = 7400\n",
      "post = 7500\n"
     ]
    }
   ],
   "source": [
    "pred = predict(test_X) "
   ]
  },
  {
   "cell_type": "code",
   "execution_count": 105,
   "id": "french-russell",
   "metadata": {},
   "outputs": [],
   "source": [
    "def getAccuracy(test_y, pred):\n",
    "    cnt = 0\n",
    "    for i in range(len(pred)):\n",
    "        if test_y[i]==pred[i]:\n",
    "            cnt += 1\n",
    "    acc = float(cnt / len(pred))\n",
    "    return acc"
   ]
  },
  {
   "cell_type": "code",
   "execution_count": 107,
   "id": "boolean-fusion",
   "metadata": {},
   "outputs": [
    {
     "data": {
      "text/plain": [
       "0.5011949017525226"
      ]
     },
     "execution_count": 107,
     "metadata": {},
     "output_type": "execute_result"
    }
   ],
   "source": [
    "accuracy = getAccuracy(test_y, pred)\n",
    "accuracy"
   ]
  }
 ],
 "metadata": {
  "kernelspec": {
   "display_name": "Python [conda env:kaggle]",
   "language": "python",
   "name": "conda-env-kaggle-py"
  },
  "language_info": {
   "codemirror_mode": {
    "name": "ipython",
    "version": 3
   },
   "file_extension": ".py",
   "mimetype": "text/x-python",
   "name": "python",
   "nbconvert_exporter": "python",
   "pygments_lexer": "ipython3",
   "version": "3.7.9"
  }
 },
 "nbformat": 4,
 "nbformat_minor": 5
}
